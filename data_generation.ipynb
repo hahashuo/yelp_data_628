{
 "cells": [
  {
   "cell_type": "markdown",
   "id": "38712a43",
   "metadata": {},
   "source": [
    "# read business and review data"
   ]
  },
  {
   "cell_type": "code",
   "execution_count": 300,
   "id": "18850447",
   "metadata": {},
   "outputs": [],
   "source": [
    "from os import listdir\n",
    "from os.path import isfile, join\n",
    "import json\n",
    "import csv\n",
    "import pandas as pd\n",
    "import numpy as np"
   ]
  },
  {
   "cell_type": "markdown",
   "id": "ac06cd3f",
   "metadata": {},
   "source": [
    "All datasets were released in March, 2020, except for Covid-19, which was released in June, 2020"
   ]
  },
  {
   "cell_type": "code",
   "execution_count": 3,
   "id": "a2172d21",
   "metadata": {
    "scrolled": true
   },
   "outputs": [
    {
     "data": {
      "text/plain": [
       "['business.json', 'covid.json', 'review.json', 'tip.json', 'user.json']"
      ]
     },
     "execution_count": 3,
     "metadata": {},
     "output_type": "execute_result"
    }
   ],
   "source": [
    "mypath = \"yelp_dataset\"\n",
    "onlyfiles = [f for f in listdir(mypath) if isfile(join(mypath, f))]\n",
    "onlyfiles"
   ]
  },
  {
   "cell_type": "code",
   "execution_count": 4,
   "id": "54dcabbc",
   "metadata": {
    "scrolled": true
   },
   "outputs": [],
   "source": [
    "# for names in onlyfiles:\n",
    "#     exec(\"{} = []\".format(names[:-5]))\n",
    "#     f = open(mypath+'/'+names, 'r', encoding='utf-8')\n",
    "#     for line in f:\n",
    "#         exec(\"{}.append(json.loads(line))\".format(names[:-5]))\n",
    "#     f.close() \n",
    "\n",
    "#     # now we will open a file for writing\n",
    "#     data_file = open(names[:-5]+'.csv', 'w', encoding='utf-8')\n",
    "\n",
    "#     # create the csv writer object\n",
    "#     csv_writer = csv.writer(data_file)\n",
    "\n",
    "#     # Counter variable used for writing\n",
    "#     # headers to the CSV file\n",
    "#     count = 0\n",
    "\n",
    "#     for emp in locals().get(names[:-5]):\n",
    "#         if count == 0:\n",
    "\n",
    "#             # Writing headers of CSV file\n",
    "#             header = emp.keys()\n",
    "#             csv_writer.writerow(header)\n",
    "#             count += 1\n",
    "\n",
    "#         # Writing data of CSV file\n",
    "#         csv_writer.writerow(emp.values())\n",
    "\n",
    "#     data_file.close()"
   ]
  },
  {
   "cell_type": "code",
   "execution_count": 5,
   "id": "cd9fd172",
   "metadata": {
    "scrolled": true
   },
   "outputs": [],
   "source": [
    "# for names in onlyfiles:\n",
    "#     exec(\"{} = []\".format(names[:-5]))\n",
    "#     f = open(mypath+'/'+names, 'r', encoding='utf-8')\n",
    "#     count = 0\n",
    "#     for line in f:\n",
    "#         exec(\"{}.append(json.loads(line))\".format(names[:-5]))\n",
    "#         count += 1\n",
    "#         if count == 10000:\n",
    "#             break\n",
    "        \n",
    "#     f.close() \n"
   ]
  },
  {
   "cell_type": "code",
   "execution_count": 7,
   "id": "ae4abf8d",
   "metadata": {
    "scrolled": true
   },
   "outputs": [],
   "source": [
    "business = []\n",
    "f =  open(mypath+'/'+'business.json', 'r', encoding='utf-8')\n",
    "for line in f:\n",
    "    business.append(json.loads(line))\n",
    "f.close()\n",
    "business_df = pd.DataFrame(business)"
   ]
  },
  {
   "cell_type": "code",
   "execution_count": 25,
   "id": "6c72efaa",
   "metadata": {},
   "outputs": [
    {
     "data": {
      "text/plain": [
       "{'business_id': '6iYb2HFDywm3zjuRg0shjw',\n",
       " 'name': 'Oskar Blues Taproom',\n",
       " 'address': '921 Pearl St',\n",
       " 'city': 'Boulder',\n",
       " 'state': 'CO',\n",
       " 'postal_code': '80302',\n",
       " 'latitude': 40.0175444,\n",
       " 'longitude': -105.2833481,\n",
       " 'stars': 4.0,\n",
       " 'review_count': 86,\n",
       " 'is_open': 1,\n",
       " 'attributes': {'RestaurantsTableService': 'True',\n",
       "  'WiFi': \"u'free'\",\n",
       "  'BikeParking': 'True',\n",
       "  'BusinessParking': \"{'garage': False, 'street': True, 'validated': False, 'lot': False, 'valet': False}\",\n",
       "  'BusinessAcceptsCreditCards': 'True',\n",
       "  'RestaurantsReservations': 'False',\n",
       "  'WheelchairAccessible': 'True',\n",
       "  'Caters': 'True',\n",
       "  'OutdoorSeating': 'True',\n",
       "  'RestaurantsGoodForGroups': 'True',\n",
       "  'HappyHour': 'True',\n",
       "  'BusinessAcceptsBitcoin': 'False',\n",
       "  'RestaurantsPriceRange2': '2',\n",
       "  'Ambience': \"{'touristy': False, 'hipster': False, 'romantic': False, 'divey': False, 'intimate': False, 'trendy': False, 'upscale': False, 'classy': False, 'casual': True}\",\n",
       "  'HasTV': 'True',\n",
       "  'Alcohol': \"'beer_and_wine'\",\n",
       "  'GoodForMeal': \"{'dessert': False, 'latenight': False, 'lunch': False, 'dinner': False, 'brunch': False, 'breakfast': False}\",\n",
       "  'DogsAllowed': 'False',\n",
       "  'RestaurantsTakeOut': 'True',\n",
       "  'NoiseLevel': \"u'average'\",\n",
       "  'RestaurantsAttire': \"'casual'\",\n",
       "  'RestaurantsDelivery': 'None'},\n",
       " 'categories': 'Gastropubs, Food, Beer Gardens, Restaurants, Bars, American (Traditional), Beer Bar, Nightlife, Breweries',\n",
       " 'hours': {'Monday': '11:0-23:0',\n",
       "  'Tuesday': '11:0-23:0',\n",
       "  'Wednesday': '11:0-23:0',\n",
       "  'Thursday': '11:0-23:0',\n",
       "  'Friday': '11:0-23:0',\n",
       "  'Saturday': '11:0-23:0',\n",
       "  'Sunday': '11:0-23:0'}}"
      ]
     },
     "execution_count": 25,
     "metadata": {},
     "output_type": "execute_result"
    }
   ],
   "source": [
    "business[0]"
   ]
  },
  {
   "cell_type": "code",
   "execution_count": 6,
   "id": "1dfc30e7",
   "metadata": {},
   "outputs": [],
   "source": [
    "# names = []\n",
    "# for name in onlyfiles:\n",
    "#     names.append(name[:-5])"
   ]
  },
  {
   "cell_type": "code",
   "execution_count": 7,
   "id": "d2e59a5e",
   "metadata": {},
   "outputs": [],
   "source": [
    "# for name in names:\n",
    "#     exec(\"{}_df = pd.DataFrame({})\".format(name, name))"
   ]
  },
  {
   "cell_type": "markdown",
   "id": "0d3c5719",
   "metadata": {},
   "source": [
    "only business has nan values"
   ]
  },
  {
   "cell_type": "code",
   "execution_count": 529,
   "id": "31905bae",
   "metadata": {
    "scrolled": true
   },
   "outputs": [
    {
     "data": {
      "text/html": [
       "<div>\n",
       "<style scoped>\n",
       "    .dataframe tbody tr th:only-of-type {\n",
       "        vertical-align: middle;\n",
       "    }\n",
       "\n",
       "    .dataframe tbody tr th {\n",
       "        vertical-align: top;\n",
       "    }\n",
       "\n",
       "    .dataframe thead th {\n",
       "        text-align: right;\n",
       "    }\n",
       "</style>\n",
       "<table border=\"1\" class=\"dataframe\">\n",
       "  <thead>\n",
       "    <tr style=\"text-align: right;\">\n",
       "      <th></th>\n",
       "      <th>business_id</th>\n",
       "      <th>name</th>\n",
       "      <th>address</th>\n",
       "      <th>city</th>\n",
       "      <th>state</th>\n",
       "      <th>postal_code</th>\n",
       "      <th>latitude</th>\n",
       "      <th>longitude</th>\n",
       "      <th>stars</th>\n",
       "      <th>review_count</th>\n",
       "      <th>is_open</th>\n",
       "      <th>attributes</th>\n",
       "      <th>categories</th>\n",
       "      <th>hours</th>\n",
       "    </tr>\n",
       "  </thead>\n",
       "  <tbody>\n",
       "    <tr>\n",
       "      <th>3</th>\n",
       "      <td>oaepsyvc0J17qwi8cfrOWg</td>\n",
       "      <td>Great Clips</td>\n",
       "      <td>2566 Enterprise Rd</td>\n",
       "      <td>Orange City</td>\n",
       "      <td>FL</td>\n",
       "      <td>32763</td>\n",
       "      <td>28.914482</td>\n",
       "      <td>-81.295979</td>\n",
       "      <td>3.0</td>\n",
       "      <td>8</td>\n",
       "      <td>1</td>\n",
       "      <td>{'RestaurantsPriceRange2': '1', 'BusinessAccep...</td>\n",
       "      <td>Beauty &amp; Spas, Hair Salons</td>\n",
       "      <td>None</td>\n",
       "    </tr>\n",
       "    <tr>\n",
       "      <th>7</th>\n",
       "      <td>jFYIsSb7r1QeESVUnXPHBw</td>\n",
       "      <td>Boxwood Biscuit</td>\n",
       "      <td>740 S High St</td>\n",
       "      <td>Columbus</td>\n",
       "      <td>OH</td>\n",
       "      <td>43206</td>\n",
       "      <td>39.947007</td>\n",
       "      <td>-82.997471</td>\n",
       "      <td>4.5</td>\n",
       "      <td>11</td>\n",
       "      <td>1</td>\n",
       "      <td>None</td>\n",
       "      <td>Breakfast &amp; Brunch, Restaurants</td>\n",
       "      <td>{'Saturday': '8:0-14:0', 'Sunday': '8:0-14:0'}</td>\n",
       "    </tr>\n",
       "    <tr>\n",
       "      <th>18</th>\n",
       "      <td>6fT0lYr_UgWSCZs_w1PBTQ</td>\n",
       "      <td>Salter School</td>\n",
       "      <td>2 Florence St</td>\n",
       "      <td>Malden</td>\n",
       "      <td>MA</td>\n",
       "      <td>02148</td>\n",
       "      <td>42.427889</td>\n",
       "      <td>-71.073475</td>\n",
       "      <td>2.0</td>\n",
       "      <td>5</td>\n",
       "      <td>1</td>\n",
       "      <td>None</td>\n",
       "      <td>Specialty Schools, Massage Schools, Middle Sch...</td>\n",
       "      <td>{'Monday': '8:0-20:0', 'Tuesday': '8:0-20:0', ...</td>\n",
       "    </tr>\n",
       "    <tr>\n",
       "      <th>19</th>\n",
       "      <td>dmbbf3AqeG61_QHRZi1M1w</td>\n",
       "      <td>RaceTrac</td>\n",
       "      <td>350 W Sand Lake Rd</td>\n",
       "      <td>Pine Castle</td>\n",
       "      <td>FL</td>\n",
       "      <td>32809</td>\n",
       "      <td>28.450302</td>\n",
       "      <td>-81.380587</td>\n",
       "      <td>3.5</td>\n",
       "      <td>5</td>\n",
       "      <td>1</td>\n",
       "      <td>{'BikeParking': 'False', 'RestaurantsPriceRang...</td>\n",
       "      <td>Automotive, American (Traditional), Gas Statio...</td>\n",
       "      <td>None</td>\n",
       "    </tr>\n",
       "    <tr>\n",
       "      <th>21</th>\n",
       "      <td>AvT2mGkdYwU0ghqDfs-OlQ</td>\n",
       "      <td>Tire Town Auto Service</td>\n",
       "      <td>2032 Hastings Street E</td>\n",
       "      <td>Vancouver</td>\n",
       "      <td>BC</td>\n",
       "      <td>V5L 1T8</td>\n",
       "      <td>49.281059</td>\n",
       "      <td>-123.063019</td>\n",
       "      <td>4.0</td>\n",
       "      <td>6</td>\n",
       "      <td>0</td>\n",
       "      <td>None</td>\n",
       "      <td>Auto Repair, Automotive, Tires</td>\n",
       "      <td>{'Monday': '9:0-17:30', 'Tuesday': '9:0-17:30'...</td>\n",
       "    </tr>\n",
       "  </tbody>\n",
       "</table>\n",
       "</div>"
      ],
      "text/plain": [
       "               business_id                    name                 address  \\\n",
       "3   oaepsyvc0J17qwi8cfrOWg             Great Clips      2566 Enterprise Rd   \n",
       "7   jFYIsSb7r1QeESVUnXPHBw         Boxwood Biscuit           740 S High St   \n",
       "18  6fT0lYr_UgWSCZs_w1PBTQ           Salter School           2 Florence St   \n",
       "19  dmbbf3AqeG61_QHRZi1M1w                RaceTrac      350 W Sand Lake Rd   \n",
       "21  AvT2mGkdYwU0ghqDfs-OlQ  Tire Town Auto Service  2032 Hastings Street E   \n",
       "\n",
       "           city state postal_code   latitude   longitude  stars  review_count  \\\n",
       "3   Orange City    FL       32763  28.914482  -81.295979    3.0             8   \n",
       "7      Columbus    OH       43206  39.947007  -82.997471    4.5            11   \n",
       "18       Malden    MA       02148  42.427889  -71.073475    2.0             5   \n",
       "19  Pine Castle    FL       32809  28.450302  -81.380587    3.5             5   \n",
       "21    Vancouver    BC     V5L 1T8  49.281059 -123.063019    4.0             6   \n",
       "\n",
       "    is_open                                         attributes  \\\n",
       "3         1  {'RestaurantsPriceRange2': '1', 'BusinessAccep...   \n",
       "7         1                                               None   \n",
       "18        1                                               None   \n",
       "19        1  {'BikeParking': 'False', 'RestaurantsPriceRang...   \n",
       "21        0                                               None   \n",
       "\n",
       "                                           categories  \\\n",
       "3                          Beauty & Spas, Hair Salons   \n",
       "7                     Breakfast & Brunch, Restaurants   \n",
       "18  Specialty Schools, Massage Schools, Middle Sch...   \n",
       "19  Automotive, American (Traditional), Gas Statio...   \n",
       "21                     Auto Repair, Automotive, Tires   \n",
       "\n",
       "                                                hours  \n",
       "3                                                None  \n",
       "7      {'Saturday': '8:0-14:0', 'Sunday': '8:0-14:0'}  \n",
       "18  {'Monday': '8:0-20:0', 'Tuesday': '8:0-20:0', ...  \n",
       "19                                               None  \n",
       "21  {'Monday': '9:0-17:30', 'Tuesday': '9:0-17:30'...  "
      ]
     },
     "execution_count": 529,
     "metadata": {},
     "output_type": "execute_result"
    }
   ],
   "source": [
    "business_df.loc[business_df.isna().sum(axis=1)>=1,:].head()"
   ]
  },
  {
   "cell_type": "markdown",
   "id": "b6089a0d",
   "metadata": {},
   "source": [
    "## covid descriptions\n",
    "    1.highlights: FALSE or dict\n",
    "    2.delivery or takeout: FALSE or TRUE\n",
    "    3.Grubhub enabled: FALSE or TRUE\n",
    "    4.Request a Quote Enabled: FALSE or TRUE\n",
    "    5.Covid Banner: FALSE or banner text\n",
    "    5.Temporary Closed Until: FALSE or time\n",
    "    6.Virtual Services Offered: FALSE or offer some services (different types)"
   ]
  },
  {
   "cell_type": "markdown",
   "id": "3b46fc07",
   "metadata": {},
   "source": [
    "## find business: oasis"
   ]
  },
  {
   "cell_type": "code",
   "execution_count": 7,
   "id": "245b594b",
   "metadata": {},
   "outputs": [
    {
     "data": {
      "text/plain": [
       "business_id                                Z5Oc3lC-NAhbmfVfRnwSzQ\n",
       "name                                     The OASIS on Lake Travis\n",
       "address                                         6550 Comanche Trl\n",
       "city                                                       Austin\n",
       "state                                                          TX\n",
       "postal_code                                                 78732\n",
       "latitude                                                30.405899\n",
       "longitude                                              -97.873952\n",
       "stars                                                         2.5\n",
       "review_count                                                 2532\n",
       "is_open                                                         1\n",
       "attributes      {'BusinessAcceptsCreditCards': 'True', 'HasTV'...\n",
       "categories      Wedding Planning, Tex-Mex, Event Planning & Se...\n",
       "hours           {'Monday': '0:0-0:0', 'Tuesday': '11:30-16:0',...\n",
       "Name: 118766, dtype: object"
      ]
     },
     "execution_count": 7,
     "metadata": {},
     "output_type": "execute_result"
    }
   ],
   "source": [
    "business_df.loc[118766, :]"
   ]
  },
  {
   "cell_type": "code",
   "execution_count": 8,
   "id": "7c34b5d1",
   "metadata": {},
   "outputs": [
    {
     "data": {
      "text/plain": [
       "'Z5Oc3lC-NAhbmfVfRnwSzQ'"
      ]
     },
     "execution_count": 8,
     "metadata": {},
     "output_type": "execute_result"
    }
   ],
   "source": [
    "id = business_df.loc[118766, 'business_id']\n",
    "id"
   ]
  },
  {
   "cell_type": "markdown",
   "id": "b708c652",
   "metadata": {},
   "source": [
    "## get reviews about The OASIS on Lake Travis"
   ]
  },
  {
   "cell_type": "code",
   "execution_count": 62,
   "id": "55e31ee9",
   "metadata": {},
   "outputs": [],
   "source": [
    "TOOLT_review = []\n",
    "f = open(mypath+'/'+'review.json', 'r', encoding='utf-8')\n",
    "count = 0\n",
    "for line in f:\n",
    "    temp = json.loads(line)\n",
    "    if temp['business_id']==id:\n",
    "        count += 1\n",
    "        TOOLT_review.append(temp)\n",
    "f.close() "
   ]
  },
  {
   "cell_type": "code",
   "execution_count": 63,
   "id": "1bfb8f68",
   "metadata": {},
   "outputs": [
    {
     "data": {
      "text/plain": [
       "2578"
      ]
     },
     "execution_count": 63,
     "metadata": {},
     "output_type": "execute_result"
    }
   ],
   "source": [
    "count"
   ]
  },
  {
   "cell_type": "code",
   "execution_count": 64,
   "id": "1e9521ea",
   "metadata": {
    "scrolled": true
   },
   "outputs": [
    {
     "data": {
      "text/html": [
       "<div>\n",
       "<style scoped>\n",
       "    .dataframe tbody tr th:only-of-type {\n",
       "        vertical-align: middle;\n",
       "    }\n",
       "\n",
       "    .dataframe tbody tr th {\n",
       "        vertical-align: top;\n",
       "    }\n",
       "\n",
       "    .dataframe thead th {\n",
       "        text-align: right;\n",
       "    }\n",
       "</style>\n",
       "<table border=\"1\" class=\"dataframe\">\n",
       "  <thead>\n",
       "    <tr style=\"text-align: right;\">\n",
       "      <th></th>\n",
       "      <th>review_id</th>\n",
       "      <th>user_id</th>\n",
       "      <th>business_id</th>\n",
       "      <th>stars</th>\n",
       "      <th>useful</th>\n",
       "      <th>funny</th>\n",
       "      <th>cool</th>\n",
       "      <th>text</th>\n",
       "      <th>date</th>\n",
       "    </tr>\n",
       "  </thead>\n",
       "  <tbody>\n",
       "    <tr>\n",
       "      <th>0</th>\n",
       "      <td>PpiVsfKBuHHrtk3v9GqStw</td>\n",
       "      <td>8wHfZSoU-jo3TwegBg_aPg</td>\n",
       "      <td>Z5Oc3lC-NAhbmfVfRnwSzQ</td>\n",
       "      <td>3.0</td>\n",
       "      <td>0</td>\n",
       "      <td>0</td>\n",
       "      <td>0</td>\n",
       "      <td>My family and I decided to have a late lunch a...</td>\n",
       "      <td>2017-02-19 07:02:42</td>\n",
       "    </tr>\n",
       "    <tr>\n",
       "      <th>1</th>\n",
       "      <td>jMTYIk4zHU3Rr5AYX5LBiw</td>\n",
       "      <td>J9mTwl4sh0HT_KeS-bd2YA</td>\n",
       "      <td>Z5Oc3lC-NAhbmfVfRnwSzQ</td>\n",
       "      <td>1.0</td>\n",
       "      <td>1</td>\n",
       "      <td>0</td>\n",
       "      <td>0</td>\n",
       "      <td>I wanted to like this place based on the stunn...</td>\n",
       "      <td>2017-07-08 17:25:57</td>\n",
       "    </tr>\n",
       "    <tr>\n",
       "      <th>2</th>\n",
       "      <td>H5LxoZBkrSA4VntAtNzv0w</td>\n",
       "      <td>DTGOyVfBNUgXuaIoM-rwmw</td>\n",
       "      <td>Z5Oc3lC-NAhbmfVfRnwSzQ</td>\n",
       "      <td>2.0</td>\n",
       "      <td>2</td>\n",
       "      <td>1</td>\n",
       "      <td>0</td>\n",
       "      <td>The food was boring, flavorless, and uncreativ...</td>\n",
       "      <td>2012-06-26 02:16:30</td>\n",
       "    </tr>\n",
       "    <tr>\n",
       "      <th>3</th>\n",
       "      <td>luEt10kIVpN1HXEWvg1i7A</td>\n",
       "      <td>pBERtKTtg6T-ViVQzccZ-w</td>\n",
       "      <td>Z5Oc3lC-NAhbmfVfRnwSzQ</td>\n",
       "      <td>2.0</td>\n",
       "      <td>2</td>\n",
       "      <td>2</td>\n",
       "      <td>1</td>\n",
       "      <td>Beautiful, beautiful views.  That's about the ...</td>\n",
       "      <td>2012-08-15 04:21:09</td>\n",
       "    </tr>\n",
       "    <tr>\n",
       "      <th>4</th>\n",
       "      <td>zbJ7-mKk4GGBWHF6EGSRsg</td>\n",
       "      <td>BNXHFDcVRX8DcmEzE_VGWQ</td>\n",
       "      <td>Z5Oc3lC-NAhbmfVfRnwSzQ</td>\n",
       "      <td>3.0</td>\n",
       "      <td>0</td>\n",
       "      <td>0</td>\n",
       "      <td>0</td>\n",
       "      <td>Eh...okay but ya gotta be there at just the ri...</td>\n",
       "      <td>2017-06-27 22:45:45</td>\n",
       "    </tr>\n",
       "  </tbody>\n",
       "</table>\n",
       "</div>"
      ],
      "text/plain": [
       "                review_id                 user_id             business_id  \\\n",
       "0  PpiVsfKBuHHrtk3v9GqStw  8wHfZSoU-jo3TwegBg_aPg  Z5Oc3lC-NAhbmfVfRnwSzQ   \n",
       "1  jMTYIk4zHU3Rr5AYX5LBiw  J9mTwl4sh0HT_KeS-bd2YA  Z5Oc3lC-NAhbmfVfRnwSzQ   \n",
       "2  H5LxoZBkrSA4VntAtNzv0w  DTGOyVfBNUgXuaIoM-rwmw  Z5Oc3lC-NAhbmfVfRnwSzQ   \n",
       "3  luEt10kIVpN1HXEWvg1i7A  pBERtKTtg6T-ViVQzccZ-w  Z5Oc3lC-NAhbmfVfRnwSzQ   \n",
       "4  zbJ7-mKk4GGBWHF6EGSRsg  BNXHFDcVRX8DcmEzE_VGWQ  Z5Oc3lC-NAhbmfVfRnwSzQ   \n",
       "\n",
       "   stars  useful  funny  cool  \\\n",
       "0    3.0       0      0     0   \n",
       "1    1.0       1      0     0   \n",
       "2    2.0       2      1     0   \n",
       "3    2.0       2      2     1   \n",
       "4    3.0       0      0     0   \n",
       "\n",
       "                                                text                 date  \n",
       "0  My family and I decided to have a late lunch a...  2017-02-19 07:02:42  \n",
       "1  I wanted to like this place based on the stunn...  2017-07-08 17:25:57  \n",
       "2  The food was boring, flavorless, and uncreativ...  2012-06-26 02:16:30  \n",
       "3  Beautiful, beautiful views.  That's about the ...  2012-08-15 04:21:09  \n",
       "4  Eh...okay but ya gotta be there at just the ri...  2017-06-27 22:45:45  "
      ]
     },
     "execution_count": 64,
     "metadata": {},
     "output_type": "execute_result"
    }
   ],
   "source": [
    "TOOLT_review_df = pd.DataFrame(TOOLT_review)\n",
    "TOOLT_review_df.head()"
   ]
  },
  {
   "cell_type": "code",
   "execution_count": 40,
   "id": "485e1a88",
   "metadata": {},
   "outputs": [],
   "source": [
    "TOOLT_review_df.to_csv(\"TOOLT_review.csv\")"
   ]
  },
  {
   "cell_type": "markdown",
   "id": "205d19c0",
   "metadata": {},
   "source": [
    "## get tips about The OASIS on Lake Travis"
   ]
  },
  {
   "cell_type": "code",
   "execution_count": 10,
   "id": "297ce25a",
   "metadata": {
    "scrolled": true
   },
   "outputs": [],
   "source": [
    "TOOLT_tips = []\n",
    "f = open(mypath+'/'+'tip.json', 'r', encoding='utf-8')\n",
    "count = 0\n",
    "for line in f:\n",
    "    temp = json.loads(line)\n",
    "    if temp['business_id']==id:\n",
    "        count += 1\n",
    "        TOOLT_tips.append(temp)\n",
    "f.close() "
   ]
  },
  {
   "cell_type": "code",
   "execution_count": 14,
   "id": "b70d6e9a",
   "metadata": {},
   "outputs": [
    {
     "name": "stdout",
     "output_type": "stream",
     "text": [
      "260\n"
     ]
    },
    {
     "data": {
      "text/html": [
       "<div>\n",
       "<style scoped>\n",
       "    .dataframe tbody tr th:only-of-type {\n",
       "        vertical-align: middle;\n",
       "    }\n",
       "\n",
       "    .dataframe tbody tr th {\n",
       "        vertical-align: top;\n",
       "    }\n",
       "\n",
       "    .dataframe thead th {\n",
       "        text-align: right;\n",
       "    }\n",
       "</style>\n",
       "<table border=\"1\" class=\"dataframe\">\n",
       "  <thead>\n",
       "    <tr style=\"text-align: right;\">\n",
       "      <th></th>\n",
       "      <th>user_id</th>\n",
       "      <th>business_id</th>\n",
       "      <th>text</th>\n",
       "      <th>date</th>\n",
       "      <th>compliment_count</th>\n",
       "    </tr>\n",
       "  </thead>\n",
       "  <tbody>\n",
       "    <tr>\n",
       "      <th>0</th>\n",
       "      <td>Ult681KMSYmgJZBGYlhFwg</td>\n",
       "      <td>Z5Oc3lC-NAhbmfVfRnwSzQ</td>\n",
       "      <td>They now have more than one wine option (thank...</td>\n",
       "      <td>2012-03-17 00:35:18</td>\n",
       "      <td>0</td>\n",
       "    </tr>\n",
       "    <tr>\n",
       "      <th>1</th>\n",
       "      <td>0WkwmWIfIzE83EwHIo0qWw</td>\n",
       "      <td>Z5Oc3lC-NAhbmfVfRnwSzQ</td>\n",
       "      <td>Spectacular views but slow service and mediocr...</td>\n",
       "      <td>2015-09-01 03:43:06</td>\n",
       "      <td>0</td>\n",
       "    </tr>\n",
       "    <tr>\n",
       "      <th>2</th>\n",
       "      <td>abkz8s2Hr7mLCwdKUxoSTA</td>\n",
       "      <td>Z5Oc3lC-NAhbmfVfRnwSzQ</td>\n",
       "      <td>Sure its got spectacular views but thats about...</td>\n",
       "      <td>2017-04-21 23:53:29</td>\n",
       "      <td>0</td>\n",
       "    </tr>\n",
       "    <tr>\n",
       "      <th>3</th>\n",
       "      <td>IRh5_v4J_BlXo9DJjH2UWw</td>\n",
       "      <td>Z5Oc3lC-NAhbmfVfRnwSzQ</td>\n",
       "      <td>Long wait, shortened menu, $1MM view.  Experie...</td>\n",
       "      <td>2016-07-25 19:58:46</td>\n",
       "      <td>0</td>\n",
       "    </tr>\n",
       "    <tr>\n",
       "      <th>4</th>\n",
       "      <td>Xur2--Cl5j1_eA8ZjZzhsg</td>\n",
       "      <td>Z5Oc3lC-NAhbmfVfRnwSzQ</td>\n",
       "      <td>breathtakingly beautiful!</td>\n",
       "      <td>2013-03-19 23:49:18</td>\n",
       "      <td>0</td>\n",
       "    </tr>\n",
       "  </tbody>\n",
       "</table>\n",
       "</div>"
      ],
      "text/plain": [
       "                  user_id             business_id  \\\n",
       "0  Ult681KMSYmgJZBGYlhFwg  Z5Oc3lC-NAhbmfVfRnwSzQ   \n",
       "1  0WkwmWIfIzE83EwHIo0qWw  Z5Oc3lC-NAhbmfVfRnwSzQ   \n",
       "2  abkz8s2Hr7mLCwdKUxoSTA  Z5Oc3lC-NAhbmfVfRnwSzQ   \n",
       "3  IRh5_v4J_BlXo9DJjH2UWw  Z5Oc3lC-NAhbmfVfRnwSzQ   \n",
       "4  Xur2--Cl5j1_eA8ZjZzhsg  Z5Oc3lC-NAhbmfVfRnwSzQ   \n",
       "\n",
       "                                                text                 date  \\\n",
       "0  They now have more than one wine option (thank...  2012-03-17 00:35:18   \n",
       "1  Spectacular views but slow service and mediocr...  2015-09-01 03:43:06   \n",
       "2  Sure its got spectacular views but thats about...  2017-04-21 23:53:29   \n",
       "3  Long wait, shortened menu, $1MM view.  Experie...  2016-07-25 19:58:46   \n",
       "4                          breathtakingly beautiful!  2013-03-19 23:49:18   \n",
       "\n",
       "   compliment_count  \n",
       "0                 0  \n",
       "1                 0  \n",
       "2                 0  \n",
       "3                 0  \n",
       "4                 0  "
      ]
     },
     "execution_count": 14,
     "metadata": {},
     "output_type": "execute_result"
    }
   ],
   "source": [
    "print(count)\n",
    "TOOLT_tips_df = pd.DataFrame(TOOLT_tips)\n",
    "TOOLT_tips_df.head()"
   ]
  },
  {
   "cell_type": "code",
   "execution_count": 15,
   "id": "72674edc",
   "metadata": {},
   "outputs": [],
   "source": [
    "TOOLT_tips_df.to_csv(\"TOOLT_tip.csv\")"
   ]
  },
  {
   "cell_type": "markdown",
   "id": "1c8676e9",
   "metadata": {},
   "source": [
    "## get related businesses and their reviews(aren't used in the following code)"
   ]
  },
  {
   "cell_type": "code",
   "execution_count": 23,
   "id": "4c021e60",
   "metadata": {},
   "outputs": [
    {
     "name": "stdout",
     "output_type": "stream",
     "text": [
      "Wedding Planning, Tex-Mex, Event Planning & Services, Venues & Event Spaces, Seafood, Restaurants, American (Traditional), Breakfast & Brunch, Local Flavor\n",
      "{'BusinessAcceptsCreditCards': 'True', 'HasTV': 'True', 'RestaurantsTakeOut': 'True', 'GoodForKids': 'True', 'RestaurantsAttire': \"'casual'\", 'RestaurantsPriceRange2': '2', 'RestaurantsReservations': 'False', 'RestaurantsGoodForGroups': 'True', 'BikeParking': 'True', 'Alcohol': \"'full_bar'\", 'Caters': 'True', 'BusinessParking': \"{'garage': True, 'street': False, 'validated': False, 'lot': True, 'valet': True}\", 'BYOBCorkage': \"'no'\", 'WiFi': \"u'no'\", 'Corkage': 'False', 'RestaurantsTableService': 'True', 'NoiseLevel': \"u'average'\", 'HappyHour': 'False', 'Ambience': \"{'touristy': True, 'hipster': False, 'romantic': False, 'divey': False, 'intimate': False, 'trendy': False, 'upscale': False, 'classy': True, 'casual': True}\", 'GoodForMeal': \"{'dessert': None, 'latenight': False, 'lunch': None, 'dinner': True, 'brunch': None, 'breakfast': False}\", 'BYOB': 'False', 'WheelchairAccessible': 'True', 'BusinessAcceptsBitcoin': 'False', 'RestaurantsDelivery': 'True', 'OutdoorSeating': 'True', 'DogsAllowed': 'False'}\n"
     ]
    }
   ],
   "source": [
    "TOOLT = business_df.loc[118766, ]\n",
    "print(TOOLT.categories)\n",
    "print(TOOLT.attributes)"
   ]
  },
  {
   "cell_type": "code",
   "execution_count": 37,
   "id": "d9559160",
   "metadata": {
    "scrolled": true
   },
   "outputs": [
    {
     "name": "stdout",
     "output_type": "stream",
     "text": [
      "50793\n"
     ]
    }
   ],
   "source": [
    "restaurants_list = []\n",
    "count = 0\n",
    "for temp in business:\n",
    "    if temp['categories'] is None:\n",
    "        continue\n",
    "    if 'Restaurant' in temp['categories']:\n",
    "        count += 1\n",
    "        restaurants_list.append(temp)\n",
    "print(count)"
   ]
  },
  {
   "cell_type": "code",
   "execution_count": 48,
   "id": "61ad11dd",
   "metadata": {},
   "outputs": [
    {
     "name": "stdout",
     "output_type": "stream",
     "text": [
      "2659\n"
     ]
    }
   ],
   "source": [
    "Restaurants_and_planing_list = []\n",
    "count = 0\n",
    "for temp in business:\n",
    "    if temp['categories'] is None:\n",
    "        continue\n",
    "    if 'Restaurant' in temp['categories'] and 'Plan' in temp['categories']:\n",
    "        count += 1 \n",
    "        Restaurants_and_planing_list.append(temp)\n",
    "print(count)"
   ]
  },
  {
   "cell_type": "code",
   "execution_count": 47,
   "id": "e0ac04f4",
   "metadata": {},
   "outputs": [
    {
     "name": "stdout",
     "output_type": "stream",
     "text": [
      "736\n"
     ]
    }
   ],
   "source": [
    "Wedding_planing_list = []\n",
    "count = 0\n",
    "for temp in business:\n",
    "    if temp['categories'] is None:\n",
    "        continue\n",
    "    if 'Wedding' in temp['categories']:\n",
    "        count += 1 \n",
    "        Wedding_planing_list.append(temp)\n",
    "print(count)"
   ]
  },
  {
   "cell_type": "code",
   "execution_count": 58,
   "id": "64e49cd8",
   "metadata": {},
   "outputs": [],
   "source": [
    "Restaurants_and_planing_list_df = pd.DataFrame(Restaurants_and_planing_list)\n",
    "list_ID = Restaurants_and_planing_list_df.business_id\n",
    "Restaurants_and_planning_reviews = []\n",
    "f = open(mypath+'/'+'review.json', 'r', encoding='utf-8')\n",
    "count = 0\n",
    "for line in f:\n",
    "    temp = json.loads(line)\n",
    "    if list_ID.eq(temp['business_id']).any():\n",
    "        count += 1\n",
    "        Restaurants_and_planning_reviews.append(temp)\n",
    "f.close() "
   ]
  },
  {
   "cell_type": "code",
   "execution_count": 59,
   "id": "41ef2b6f",
   "metadata": {},
   "outputs": [
    {
     "data": {
      "text/plain": [
       "405482"
      ]
     },
     "execution_count": 59,
     "metadata": {},
     "output_type": "execute_result"
    }
   ],
   "source": [
    "count"
   ]
  },
  {
   "cell_type": "markdown",
   "id": "87e85254",
   "metadata": {},
   "source": [
    "## word segregation"
   ]
  },
  {
   "cell_type": "code",
   "execution_count": 245,
   "id": "e7801010",
   "metadata": {},
   "outputs": [],
   "source": [
    "import re \n",
    "from PIL import Image\n",
    "import matplotlib.font_manager as fm\n",
    "from wordcloud import WordCloud,ImageColorGenerator\n",
    "from snownlp import SnowNLP\n",
    "import nltk\n",
    "from nltk.stem.snowball import SnowballStemmer\n",
    "from nltk.tokenize import TweetTokenizer\n",
    "from nltk.tokenize import word_tokenize\n",
    "import seaborn as sns\n",
    "import math\n",
    "from googletrans import Translator"
   ]
  },
  {
   "cell_type": "code",
   "execution_count": 260,
   "id": "6af42030",
   "metadata": {
    "scrolled": true
   },
   "outputs": [],
   "source": [
    "TOOLT_review_df.text = TOOLT_review_df.text.apply(lambda s: re.sub(r'[0-9!\\\"#$%&()*+-./:;<=>?@[\\]^_`{|}~\\n]', ' ', s))\n",
    "words = set(nltk.corpus.words.words())\n",
    "TOOLT_review_df.text = TOOLT_review_df.text.apply(lambda s: \" \".join(w for w in nltk.wordpunct_tokenize(s) if w.lower() in words or not w.isalpha()))\n"
   ]
  },
  {
   "cell_type": "code",
   "execution_count": 457,
   "id": "575af5fb",
   "metadata": {},
   "outputs": [],
   "source": [
    "stemmer = SnowballStemmer(\"english\")\n",
    "stopwords = nltk.corpus.stopwords.words('english')\n",
    "stopwords.append(['.',',','us','...','!', 'x x x x','x x x x x'])\n",
    "tknzr = TweetTokenizer()#different tokenizer\n",
    "def get_freq(corpus_review):\n",
    "    freq = {}\n",
    "    symbols = \"!\\\"#$%&()*+-./:;<=>?@[\\]^_`{|}~\\n\"\n",
    "    for s in symbols:\n",
    "        corpus_review=corpus_review.replace(\"s\", \" \")\n",
    "    corpus_review=corpus_review.replace(\"x x x x\", \"\")\n",
    "    corpus_review=corpus_review.replace(\"x x x x x\", \"\")\n",
    "    words_token = tknzr.tokenize(corpus_review)\n",
    "    for word in words_token:\n",
    "        if len(word) == 1 or word in stopwords:\n",
    "            continue\n",
    "        else:\n",
    "#             word = stemmer.stem(word)\n",
    "            word = word.lower()\n",
    "            freq[word] = freq.get(word,0) + 1\n",
    "    return freq"
   ]
  },
  {
   "cell_type": "code",
   "execution_count": 117,
   "id": "e8320450",
   "metadata": {},
   "outputs": [],
   "source": [
    "def freq_matrix(text_list, key_list):\n",
    "    freq_matrix = {}\n",
    "    for text, key in zip(text_list, key_list):\n",
    "        freq_matrix[key] = get_freq(text)\n",
    "    return freq_matrix"
   ]
  },
  {
   "cell_type": "code",
   "execution_count": 498,
   "id": "3edf87b1",
   "metadata": {},
   "outputs": [],
   "source": [
    "def create_tf_matrix(freq_matrix):\n",
    "    tf_matrix = {}\n",
    "\n",
    "    for sent, f_table in freq_matrix.items():\n",
    "        tf_table = {}\n",
    "\n",
    "        count_words_in_sentence = sum(f_table.values())\n",
    "        for word, count in f_table.items():\n",
    "            tf_table[word] = np.arctan(count / count_words_in_sentence)\n",
    "\n",
    "        tf_matrix[sent] = tf_table\n",
    "\n",
    "    return tf_matrix"
   ]
  },
  {
   "cell_type": "code",
   "execution_count": 519,
   "id": "111f1bd5",
   "metadata": {},
   "outputs": [],
   "source": [
    "def create_idf_matrix(freq_matrix,  total_documents):\n",
    "    idf_matrix = {}\n",
    "    word_per_doc_table = {}\n",
    "\n",
    "    for sent, f_table in freq_matrix.items():\n",
    "        for word, count in f_table.items():\n",
    "            if word in word_per_doc_table:\n",
    "                word_per_doc_table[word] += 1\n",
    "            else:\n",
    "                word_per_doc_table[word] = 1\n",
    "\n",
    "    for sent, f_table in freq_matrix.items():\n",
    "        idf_table = {}\n",
    "\n",
    "        for word in f_table.keys():\n",
    "            idf_table[word] = math.log10(total_documents / float(word_per_doc_table[word]))**2\n",
    "\n",
    "        idf_matrix[sent] = idf_table\n",
    "\n",
    "    return idf_matrix"
   ]
  },
  {
   "cell_type": "code",
   "execution_count": 520,
   "id": "59124466",
   "metadata": {},
   "outputs": [],
   "source": [
    "def create_tf_idf_matrix(tf_matrix, idf_matrix):\n",
    "    tf_idf_matrix = {}\n",
    "\n",
    "    for (sent1, f_table1), (sent2, f_table2) in zip(tf_matrix.items(), idf_matrix.items()):\n",
    "\n",
    "        tf_idf_table = {}\n",
    "\n",
    "        for (word1, value1), (word2, value2) in zip(f_table1.items(),\n",
    "                                                    f_table2.items()):  # here, keys are the same in both the table\n",
    "            tf_idf_table[word1] = float(value1 * value2)\n",
    "\n",
    "        tf_idf_matrix[sent1] = tf_idf_table\n",
    "\n",
    "    return tf_idf_matrix"
   ]
  },
  {
   "cell_type": "code",
   "execution_count": 521,
   "id": "7654940b",
   "metadata": {
    "scrolled": true
   },
   "outputs": [],
   "source": [
    "# Restaurants_and_planning_reviews_df = pd.DataFrame(Restaurants_and_planning_reviews)\n",
    "# reviews_by_restaurants = Restaurants_and_planning_reviews_df.groupby('business_id')['text'].apply(lambda x: \"\".join(x)).to_dict()\n",
    "# freq_by_res = freq_matrix(reviews_by_restaurants.values(), reviews_by_restaurants.keys())\n",
    "# Res_tf = create_tf_matrix(freq_by_res)\n",
    "# Res_idf = create_idf_matrix(freq_by_star, len(reviews_by_restaurants))\n",
    "# Res_weight = create_tf_idf_matrix(Res_tf, Res_idf)"
   ]
  },
  {
   "cell_type": "code",
   "execution_count": 522,
   "id": "b1488082",
   "metadata": {},
   "outputs": [],
   "source": [
    "reviews_by_stars = TOOLT_review_df.groupby('stars')['text'].apply(lambda x: \"\".join(x)).to_dict()\n",
    "freq_by_res = freq_matrix(TOOLT_review_df.text, TOOLT_review_df.review_id)\n",
    "Res_tf = create_tf_matrix(freq_by_res)\n",
    "Res_idf = create_idf_matrix(freq_by_res, len(TOOLT_review_df))\n",
    "Res_weight = create_tf_idf_matrix(Res_tf, Res_idf)"
   ]
  },
  {
   "cell_type": "code",
   "execution_count": 523,
   "id": "053617a4",
   "metadata": {
    "scrolled": true
   },
   "outputs": [
    {
     "data": {
      "text/plain": [
       "2578"
      ]
     },
     "execution_count": 523,
     "metadata": {},
     "output_type": "execute_result"
    }
   ],
   "source": [
    "Res_weight_df = pd.DataFrame(Res_weight).T\n",
    "len(Res_weight_df)"
   ]
  },
  {
   "cell_type": "code",
   "execution_count": 524,
   "id": "e564bab1",
   "metadata": {
    "scrolled": true
   },
   "outputs": [
    {
     "data": {
      "text/html": [
       "<div>\n",
       "<style scoped>\n",
       "    .dataframe tbody tr th:only-of-type {\n",
       "        vertical-align: middle;\n",
       "    }\n",
       "\n",
       "    .dataframe tbody tr th {\n",
       "        vertical-align: top;\n",
       "    }\n",
       "\n",
       "    .dataframe thead th {\n",
       "        text-align: right;\n",
       "    }\n",
       "</style>\n",
       "<table border=\"1\" class=\"dataframe\">\n",
       "  <thead>\n",
       "    <tr style=\"text-align: right;\">\n",
       "      <th></th>\n",
       "      <th>my</th>\n",
       "      <th>family</th>\n",
       "      <th>decided</th>\n",
       "      <th>late</th>\n",
       "      <th>lunch</th>\n",
       "      <th>thi</th>\n",
       "      <th>wonderful</th>\n",
       "      <th>pot</th>\n",
       "      <th>lake</th>\n",
       "      <th>travi</th>\n",
       "      <th>...</th>\n",
       "      <th>say</th>\n",
       "      <th>thoughtful</th>\n",
       "      <th>gari</th>\n",
       "      <th>laughter</th>\n",
       "      <th>aggravation</th>\n",
       "      <th>advanced</th>\n",
       "      <th>fixable</th>\n",
       "      <th>chained</th>\n",
       "      <th>boardwalk</th>\n",
       "      <th>abruptly</th>\n",
       "    </tr>\n",
       "  </thead>\n",
       "  <tbody>\n",
       "    <tr>\n",
       "      <th>PpiVsfKBuHHrtk3v9GqStw</th>\n",
       "      <td>0.008882</td>\n",
       "      <td>0.015905</td>\n",
       "      <td>0.02147</td>\n",
       "      <td>0.041565</td>\n",
       "      <td>0.018895</td>\n",
       "      <td>0.001244</td>\n",
       "      <td>0.025273</td>\n",
       "      <td>0.019716</td>\n",
       "      <td>0.008568</td>\n",
       "      <td>0.008625</td>\n",
       "      <td>...</td>\n",
       "      <td>NaN</td>\n",
       "      <td>NaN</td>\n",
       "      <td>NaN</td>\n",
       "      <td>NaN</td>\n",
       "      <td>NaN</td>\n",
       "      <td>NaN</td>\n",
       "      <td>NaN</td>\n",
       "      <td>NaN</td>\n",
       "      <td>NaN</td>\n",
       "      <td>NaN</td>\n",
       "    </tr>\n",
       "    <tr>\n",
       "      <th>jMTYIk4zHU3Rr5AYX5LBiw</th>\n",
       "      <td>NaN</td>\n",
       "      <td>NaN</td>\n",
       "      <td>NaN</td>\n",
       "      <td>NaN</td>\n",
       "      <td>NaN</td>\n",
       "      <td>0.003498</td>\n",
       "      <td>NaN</td>\n",
       "      <td>NaN</td>\n",
       "      <td>NaN</td>\n",
       "      <td>NaN</td>\n",
       "      <td>...</td>\n",
       "      <td>NaN</td>\n",
       "      <td>NaN</td>\n",
       "      <td>NaN</td>\n",
       "      <td>NaN</td>\n",
       "      <td>NaN</td>\n",
       "      <td>NaN</td>\n",
       "      <td>NaN</td>\n",
       "      <td>NaN</td>\n",
       "      <td>NaN</td>\n",
       "      <td>NaN</td>\n",
       "    </tr>\n",
       "    <tr>\n",
       "      <th>H5LxoZBkrSA4VntAtNzv0w</th>\n",
       "      <td>NaN</td>\n",
       "      <td>NaN</td>\n",
       "      <td>NaN</td>\n",
       "      <td>NaN</td>\n",
       "      <td>NaN</td>\n",
       "      <td>0.002153</td>\n",
       "      <td>NaN</td>\n",
       "      <td>NaN</td>\n",
       "      <td>NaN</td>\n",
       "      <td>NaN</td>\n",
       "      <td>...</td>\n",
       "      <td>NaN</td>\n",
       "      <td>NaN</td>\n",
       "      <td>NaN</td>\n",
       "      <td>NaN</td>\n",
       "      <td>NaN</td>\n",
       "      <td>NaN</td>\n",
       "      <td>NaN</td>\n",
       "      <td>NaN</td>\n",
       "      <td>NaN</td>\n",
       "      <td>NaN</td>\n",
       "    </tr>\n",
       "    <tr>\n",
       "      <th>luEt10kIVpN1HXEWvg1i7A</th>\n",
       "      <td>NaN</td>\n",
       "      <td>NaN</td>\n",
       "      <td>NaN</td>\n",
       "      <td>NaN</td>\n",
       "      <td>NaN</td>\n",
       "      <td>0.002074</td>\n",
       "      <td>NaN</td>\n",
       "      <td>NaN</td>\n",
       "      <td>NaN</td>\n",
       "      <td>NaN</td>\n",
       "      <td>...</td>\n",
       "      <td>NaN</td>\n",
       "      <td>NaN</td>\n",
       "      <td>NaN</td>\n",
       "      <td>NaN</td>\n",
       "      <td>NaN</td>\n",
       "      <td>NaN</td>\n",
       "      <td>NaN</td>\n",
       "      <td>NaN</td>\n",
       "      <td>NaN</td>\n",
       "      <td>NaN</td>\n",
       "    </tr>\n",
       "    <tr>\n",
       "      <th>zbJ7-mKk4GGBWHF6EGSRsg</th>\n",
       "      <td>NaN</td>\n",
       "      <td>NaN</td>\n",
       "      <td>NaN</td>\n",
       "      <td>0.101083</td>\n",
       "      <td>NaN</td>\n",
       "      <td>NaN</td>\n",
       "      <td>NaN</td>\n",
       "      <td>NaN</td>\n",
       "      <td>0.010420</td>\n",
       "      <td>0.020976</td>\n",
       "      <td>...</td>\n",
       "      <td>NaN</td>\n",
       "      <td>NaN</td>\n",
       "      <td>NaN</td>\n",
       "      <td>NaN</td>\n",
       "      <td>NaN</td>\n",
       "      <td>NaN</td>\n",
       "      <td>NaN</td>\n",
       "      <td>NaN</td>\n",
       "      <td>NaN</td>\n",
       "      <td>NaN</td>\n",
       "    </tr>\n",
       "  </tbody>\n",
       "</table>\n",
       "<p>5 rows × 5309 columns</p>\n",
       "</div>"
      ],
      "text/plain": [
       "                              my    family  decided      late     lunch  \\\n",
       "PpiVsfKBuHHrtk3v9GqStw  0.008882  0.015905  0.02147  0.041565  0.018895   \n",
       "jMTYIk4zHU3Rr5AYX5LBiw       NaN       NaN      NaN       NaN       NaN   \n",
       "H5LxoZBkrSA4VntAtNzv0w       NaN       NaN      NaN       NaN       NaN   \n",
       "luEt10kIVpN1HXEWvg1i7A       NaN       NaN      NaN       NaN       NaN   \n",
       "zbJ7-mKk4GGBWHF6EGSRsg       NaN       NaN      NaN  0.101083       NaN   \n",
       "\n",
       "                             thi  wonderful       pot      lake     travi  \\\n",
       "PpiVsfKBuHHrtk3v9GqStw  0.001244   0.025273  0.019716  0.008568  0.008625   \n",
       "jMTYIk4zHU3Rr5AYX5LBiw  0.003498        NaN       NaN       NaN       NaN   \n",
       "H5LxoZBkrSA4VntAtNzv0w  0.002153        NaN       NaN       NaN       NaN   \n",
       "luEt10kIVpN1HXEWvg1i7A  0.002074        NaN       NaN       NaN       NaN   \n",
       "zbJ7-mKk4GGBWHF6EGSRsg       NaN        NaN       NaN  0.010420  0.020976   \n",
       "\n",
       "                        ...  say  thoughtful  gari  laughter  aggravation  \\\n",
       "PpiVsfKBuHHrtk3v9GqStw  ...  NaN         NaN   NaN       NaN          NaN   \n",
       "jMTYIk4zHU3Rr5AYX5LBiw  ...  NaN         NaN   NaN       NaN          NaN   \n",
       "H5LxoZBkrSA4VntAtNzv0w  ...  NaN         NaN   NaN       NaN          NaN   \n",
       "luEt10kIVpN1HXEWvg1i7A  ...  NaN         NaN   NaN       NaN          NaN   \n",
       "zbJ7-mKk4GGBWHF6EGSRsg  ...  NaN         NaN   NaN       NaN          NaN   \n",
       "\n",
       "                        advanced  fixable  chained  boardwalk  abruptly  \n",
       "PpiVsfKBuHHrtk3v9GqStw       NaN      NaN      NaN        NaN       NaN  \n",
       "jMTYIk4zHU3Rr5AYX5LBiw       NaN      NaN      NaN        NaN       NaN  \n",
       "H5LxoZBkrSA4VntAtNzv0w       NaN      NaN      NaN        NaN       NaN  \n",
       "luEt10kIVpN1HXEWvg1i7A       NaN      NaN      NaN        NaN       NaN  \n",
       "zbJ7-mKk4GGBWHF6EGSRsg       NaN      NaN      NaN        NaN       NaN  \n",
       "\n",
       "[5 rows x 5309 columns]"
      ]
     },
     "execution_count": 524,
     "metadata": {},
     "output_type": "execute_result"
    }
   ],
   "source": [
    "Res_weight_df.head()"
   ]
  },
  {
   "cell_type": "code",
   "execution_count": 525,
   "id": "8993d5d0",
   "metadata": {
    "scrolled": true
   },
   "outputs": [],
   "source": [
    "TOOLT_review_df['starofreviews'] = TOOLT_review_df.stars\n",
    "Res_weight_df = pd.merge(Res_weight_df.reset_index(),\n",
    "                         TOOLT_review_df[['review_id', 'starofreviews']], \n",
    "                         left_on='index', right_on='review_id')"
   ]
  },
  {
   "cell_type": "code",
   "execution_count": 526,
   "id": "3d8112b5",
   "metadata": {},
   "outputs": [],
   "source": [
    "Res_weight_df = Res_weight_df.drop(['review_id','index'], axis = 1)\n",
    "Star_Res = Res_weight_df.groupby('starofreviews').sum()"
   ]
  },
  {
   "cell_type": "code",
   "execution_count": 527,
   "id": "e4f0a2d0",
   "metadata": {},
   "outputs": [
    {
     "data": {
      "text/html": [
       "<div>\n",
       "<style scoped>\n",
       "    .dataframe tbody tr th:only-of-type {\n",
       "        vertical-align: middle;\n",
       "    }\n",
       "\n",
       "    .dataframe tbody tr th {\n",
       "        vertical-align: top;\n",
       "    }\n",
       "\n",
       "    .dataframe thead th {\n",
       "        text-align: right;\n",
       "    }\n",
       "</style>\n",
       "<table border=\"1\" class=\"dataframe\">\n",
       "  <thead>\n",
       "    <tr style=\"text-align: right;\">\n",
       "      <th></th>\n",
       "      <th>my</th>\n",
       "      <th>family</th>\n",
       "      <th>decided</th>\n",
       "      <th>late</th>\n",
       "      <th>lunch</th>\n",
       "      <th>thi</th>\n",
       "      <th>wonderful</th>\n",
       "      <th>pot</th>\n",
       "      <th>lake</th>\n",
       "      <th>travi</th>\n",
       "      <th>...</th>\n",
       "      <th>say</th>\n",
       "      <th>thoughtful</th>\n",
       "      <th>gari</th>\n",
       "      <th>laughter</th>\n",
       "      <th>aggravation</th>\n",
       "      <th>advanced</th>\n",
       "      <th>fixable</th>\n",
       "      <th>chained</th>\n",
       "      <th>boardwalk</th>\n",
       "      <th>abruptly</th>\n",
       "    </tr>\n",
       "    <tr>\n",
       "      <th>starofreviews</th>\n",
       "      <th></th>\n",
       "      <th></th>\n",
       "      <th></th>\n",
       "      <th></th>\n",
       "      <th></th>\n",
       "      <th></th>\n",
       "      <th></th>\n",
       "      <th></th>\n",
       "      <th></th>\n",
       "      <th></th>\n",
       "      <th></th>\n",
       "      <th></th>\n",
       "      <th></th>\n",
       "      <th></th>\n",
       "      <th></th>\n",
       "      <th></th>\n",
       "      <th></th>\n",
       "      <th></th>\n",
       "      <th></th>\n",
       "      <th></th>\n",
       "      <th></th>\n",
       "    </tr>\n",
       "  </thead>\n",
       "  <tbody>\n",
       "    <tr>\n",
       "      <th>1.0</th>\n",
       "      <td>1.450007</td>\n",
       "      <td>1.171916</td>\n",
       "      <td>1.079106</td>\n",
       "      <td>0.732729</td>\n",
       "      <td>0.788456</td>\n",
       "      <td>1.366867</td>\n",
       "      <td>0.473802</td>\n",
       "      <td>0.608123</td>\n",
       "      <td>0.943716</td>\n",
       "      <td>0.816600</td>\n",
       "      <td>...</td>\n",
       "      <td>0.000000</td>\n",
       "      <td>0.000000</td>\n",
       "      <td>0.375252</td>\n",
       "      <td>0.264428</td>\n",
       "      <td>0.264428</td>\n",
       "      <td>0.126483</td>\n",
       "      <td>0.088829</td>\n",
       "      <td>0.000000</td>\n",
       "      <td>0.000000</td>\n",
       "      <td>0.000000</td>\n",
       "    </tr>\n",
       "    <tr>\n",
       "      <th>2.0</th>\n",
       "      <td>1.095756</td>\n",
       "      <td>0.733507</td>\n",
       "      <td>0.781426</td>\n",
       "      <td>0.285589</td>\n",
       "      <td>0.649368</td>\n",
       "      <td>0.922696</td>\n",
       "      <td>0.257244</td>\n",
       "      <td>1.375650</td>\n",
       "      <td>1.277389</td>\n",
       "      <td>1.031314</td>\n",
       "      <td>...</td>\n",
       "      <td>0.076557</td>\n",
       "      <td>0.000000</td>\n",
       "      <td>0.000000</td>\n",
       "      <td>0.000000</td>\n",
       "      <td>0.000000</td>\n",
       "      <td>0.000000</td>\n",
       "      <td>0.000000</td>\n",
       "      <td>0.000000</td>\n",
       "      <td>0.000000</td>\n",
       "      <td>0.000000</td>\n",
       "    </tr>\n",
       "    <tr>\n",
       "      <th>3.0</th>\n",
       "      <td>0.934412</td>\n",
       "      <td>0.762804</td>\n",
       "      <td>0.260195</td>\n",
       "      <td>0.413840</td>\n",
       "      <td>0.674556</td>\n",
       "      <td>0.655723</td>\n",
       "      <td>1.181547</td>\n",
       "      <td>1.341319</td>\n",
       "      <td>1.644959</td>\n",
       "      <td>1.561741</td>\n",
       "      <td>...</td>\n",
       "      <td>0.000000</td>\n",
       "      <td>0.447351</td>\n",
       "      <td>0.000000</td>\n",
       "      <td>0.000000</td>\n",
       "      <td>0.000000</td>\n",
       "      <td>0.000000</td>\n",
       "      <td>0.000000</td>\n",
       "      <td>0.000000</td>\n",
       "      <td>0.000000</td>\n",
       "      <td>0.000000</td>\n",
       "    </tr>\n",
       "    <tr>\n",
       "      <th>4.0</th>\n",
       "      <td>0.875281</td>\n",
       "      <td>1.106057</td>\n",
       "      <td>0.499754</td>\n",
       "      <td>0.048161</td>\n",
       "      <td>2.003368</td>\n",
       "      <td>0.725364</td>\n",
       "      <td>1.216661</td>\n",
       "      <td>1.497268</td>\n",
       "      <td>1.890062</td>\n",
       "      <td>2.130551</td>\n",
       "      <td>...</td>\n",
       "      <td>0.000000</td>\n",
       "      <td>0.000000</td>\n",
       "      <td>0.000000</td>\n",
       "      <td>0.000000</td>\n",
       "      <td>0.000000</td>\n",
       "      <td>0.000000</td>\n",
       "      <td>0.000000</td>\n",
       "      <td>0.187675</td>\n",
       "      <td>0.000000</td>\n",
       "      <td>0.000000</td>\n",
       "    </tr>\n",
       "    <tr>\n",
       "      <th>5.0</th>\n",
       "      <td>1.008896</td>\n",
       "      <td>1.498046</td>\n",
       "      <td>0.402815</td>\n",
       "      <td>0.108672</td>\n",
       "      <td>0.999253</td>\n",
       "      <td>0.467917</td>\n",
       "      <td>2.501893</td>\n",
       "      <td>0.710870</td>\n",
       "      <td>1.024419</td>\n",
       "      <td>1.344219</td>\n",
       "      <td>...</td>\n",
       "      <td>0.000000</td>\n",
       "      <td>0.000000</td>\n",
       "      <td>0.000000</td>\n",
       "      <td>0.000000</td>\n",
       "      <td>0.000000</td>\n",
       "      <td>0.000000</td>\n",
       "      <td>0.000000</td>\n",
       "      <td>0.000000</td>\n",
       "      <td>0.829794</td>\n",
       "      <td>0.176302</td>\n",
       "    </tr>\n",
       "  </tbody>\n",
       "</table>\n",
       "<p>5 rows × 5309 columns</p>\n",
       "</div>"
      ],
      "text/plain": [
       "                     my    family   decided      late     lunch       thi  \\\n",
       "starofreviews                                                               \n",
       "1.0            1.450007  1.171916  1.079106  0.732729  0.788456  1.366867   \n",
       "2.0            1.095756  0.733507  0.781426  0.285589  0.649368  0.922696   \n",
       "3.0            0.934412  0.762804  0.260195  0.413840  0.674556  0.655723   \n",
       "4.0            0.875281  1.106057  0.499754  0.048161  2.003368  0.725364   \n",
       "5.0            1.008896  1.498046  0.402815  0.108672  0.999253  0.467917   \n",
       "\n",
       "               wonderful       pot      lake     travi  ...       say  \\\n",
       "starofreviews                                           ...             \n",
       "1.0             0.473802  0.608123  0.943716  0.816600  ...  0.000000   \n",
       "2.0             0.257244  1.375650  1.277389  1.031314  ...  0.076557   \n",
       "3.0             1.181547  1.341319  1.644959  1.561741  ...  0.000000   \n",
       "4.0             1.216661  1.497268  1.890062  2.130551  ...  0.000000   \n",
       "5.0             2.501893  0.710870  1.024419  1.344219  ...  0.000000   \n",
       "\n",
       "               thoughtful      gari  laughter  aggravation  advanced  \\\n",
       "starofreviews                                                          \n",
       "1.0              0.000000  0.375252  0.264428     0.264428  0.126483   \n",
       "2.0              0.000000  0.000000  0.000000     0.000000  0.000000   \n",
       "3.0              0.447351  0.000000  0.000000     0.000000  0.000000   \n",
       "4.0              0.000000  0.000000  0.000000     0.000000  0.000000   \n",
       "5.0              0.000000  0.000000  0.000000     0.000000  0.000000   \n",
       "\n",
       "                fixable   chained  boardwalk  abruptly  \n",
       "starofreviews                                           \n",
       "1.0            0.088829  0.000000   0.000000  0.000000  \n",
       "2.0            0.000000  0.000000   0.000000  0.000000  \n",
       "3.0            0.000000  0.000000   0.000000  0.000000  \n",
       "4.0            0.000000  0.187675   0.000000  0.000000  \n",
       "5.0            0.000000  0.000000   0.829794  0.176302  \n",
       "\n",
       "[5 rows x 5309 columns]"
      ]
     },
     "execution_count": 527,
     "metadata": {},
     "output_type": "execute_result"
    }
   ],
   "source": [
    "Star_Res"
   ]
  },
  {
   "cell_type": "code",
   "execution_count": 528,
   "id": "e9fc6ff6",
   "metadata": {
    "scrolled": true
   },
   "outputs": [
    {
     "name": "stdout",
     "output_type": "stream",
     "text": [
      "Index(['horrible', 'terrible', 'wor', 'rude', 'awful', 'never', 'bad',\n",
      "       'manager', 'hour', 'ever',\n",
      "       ...\n",
      "       'naming', 'executive', 'inging', 'toppable', 'neaky', 'extended',\n",
      "       'bomb', 'grapefruit', 'ador', 'gladly'],\n",
      "      dtype='object', length=5309)\n",
      "Index(['mediocre', 'tar', 'quality', 'two', 'priced', 'wor', 'bland', 'you',\n",
      "       'much', 'not',\n",
      "       ...\n",
      "       'liqueur', 'unaware', 'nag', 'memo', 'sipper', 'elder', 'seek', 'flare',\n",
      "       'twin', 'abruptly'],\n",
      "      dtype='object', length=5309)\n",
      "Index(['average', 'simply', 'but', 'crown', 'great', 'pretty', 'better', 'un',\n",
      "       'worth', 'fun',\n",
      "       ...\n",
      "       'ga', 'school', 'upset', 'walker', 'pitch', 'irable', 'farce', 'urface',\n",
      "       'population', 'gladly'],\n",
      "      dtype='object', length=5309)\n",
      "Index(['love', 'amazing', 'definitely', 'fun', 'phere', 'atmo', 'awe', 'travi',\n",
      "       'mu', 'alway',\n",
      "       ...\n",
      "       'knowledge', 'inside', 'worn', 'hift', 'tandem', 'randomly',\n",
      "       'apartment', 'maul', 'rim', 'abruptly'],\n",
      "      dtype='object', length=5309)\n",
      "Index(['tu', 'deliciou', 'wonderful', 'amazing', 'excellent', 'highly',\n",
      "       'friendly', 'be', 'great', 'mu',\n",
      "       ...\n",
      "       'wax', 'backdrop', 'glamour', 'colored', 'talent', 'rage', 'ituated',\n",
      "       'village', 'compound', 'gladly'],\n",
      "      dtype='object', length=5309)\n"
     ]
    },
    {
     "data": {
      "text/plain": [
       "starofreviews\n",
       "1.0    None\n",
       "2.0    None\n",
       "3.0    None\n",
       "4.0    None\n",
       "5.0    None\n",
       "dtype: object"
      ]
     },
     "execution_count": 528,
     "metadata": {},
     "output_type": "execute_result"
    }
   ],
   "source": [
    "def most_common(series):\n",
    "    print(series.keys()[np.argsort(series.values)][::-1])\n",
    "    \n",
    "Star_Res.apply(most_common, axis = 1)"
   ]
  },
  {
   "cell_type": "code",
   "execution_count": 549,
   "id": "f7cee59c",
   "metadata": {
    "scrolled": false
   },
   "outputs": [
    {
     "data": {
      "image/png": "[encoded data removed]",
      "text/plain": [
       "<Figure size 432x288 with 1 Axes>"
      ]
     },
     "metadata": {
      "needs_background": "light"
     },
     "output_type": "display_data"
    }
   ],
   "source": [
    "import matplotlib.pyplot as plt\n",
    "from wordcloud import WordCloud\n",
    "\n",
    "wordcloud = WordCloud(background_color=\"white\", width=1500, height=960, margin=10)\n",
    "wordcloud.generate_from_frequencies(frequencies=Star_Res.loc[5].to_dict())\n",
    "plt.figure()\n",
    "plt.imshow(wordcloud, interpolation=\"bilinear\")\n",
    "plt.axis(\"off\")\n",
    "plt.show()"
   ]
  },
  {
   "cell_type": "code",
   "execution_count": 550,
   "id": "98a9e65b",
   "metadata": {},
   "outputs": [
    {
     "data": {
      "text/plain": [
       "<Figure size 432x288 with 0 Axes>"
      ]
     },
     "metadata": {},
     "output_type": "display_data"
    }
   ],
   "source": [
    "plt.savefig('wordcloud_5star.png')"
   ]
  },
  {
   "cell_type": "code",
   "execution_count": 551,
   "id": "c148ea19",
   "metadata": {},
   "outputs": [
    {
     "data": {
      "image/png": "[encoded data removed]",
      "text/plain": [
       "<Figure size 432x288 with 1 Axes>"
      ]
     },
     "metadata": {
      "needs_background": "light"
     },
     "output_type": "display_data"
    }
   ],
   "source": [
    "wordcloud = WordCloud(background_color=\"white\", width=1500, height=960, margin=10)\n",
    "wordcloud.generate_from_frequencies(frequencies=Star_Res.loc[1].to_dict())\n",
    "plt.figure()\n",
    "plt.imshow(wordcloud, interpolation=\"bilinear\")\n",
    "plt.axis(\"off\")\n",
    "plt.show()"
   ]
  },
  {
   "cell_type": "code",
   "execution_count": 552,
   "id": "e0ff18ea",
   "metadata": {
    "scrolled": true
   },
   "outputs": [
    {
     "data": {
      "text/plain": [
       "<Figure size 432x288 with 0 Axes>"
      ]
     },
     "metadata": {},
     "output_type": "display_data"
    }
   ],
   "source": [
    "plt.savefig('wordcloud_1star.png')"
   ]
  },
  {
   "cell_type": "code",
   "execution_count": null,
   "id": "a253184e",
   "metadata": {},
   "outputs": [],
   "source": []
  }
 ],
 "metadata": {
  "kernelspec": {
   "display_name": "Python 3",
   "language": "python",
   "name": "python3"
  },
  "language_info": {
   "codemirror_mode": {
    "name": "ipython",
    "version": 3
   },
   "file_extension": ".py",
   "mimetype": "text/x-python",
   "name": "python",
   "nbconvert_exporter": "python",
   "pygments_lexer": "ipython3",
   "version": "3.8.8"
  }
 },
 "nbformat": 4,
 "nbformat_minor": 5
}
